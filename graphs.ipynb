{
 "cells": [
  {
   "cell_type": "code",
   "execution_count": 1,
   "metadata": {},
   "outputs": [],
   "source": [
    "import sqlite3\n",
    "import pandas as pd\n",
    "import matplotlib.pyplot as plt\n",
    "import seaborn as sns"
   ]
  },
  {
   "cell_type": "markdown",
   "metadata": {},
   "source": [
    "### Connect to SQLite Database"
   ]
  },
  {
   "cell_type": "code",
   "execution_count": 2,
   "metadata": {},
   "outputs": [],
   "source": [
    "connection = sqlite3.connect('shiptivity.db')"
   ]
  },
  {
   "cell_type": "markdown",
   "metadata": {},
   "source": [
    "### Execute Queries and Retrieve Data"
   ]
  },
  {
   "cell_type": "code",
   "execution_count": 3,
   "metadata": {},
   "outputs": [],
   "source": [
    "feature_change_timestamp = 1527897600\n",
    "\n",
    "query_before = f\"\"\"\n",
    "SELECT\n",
    "    DATE(login_timestamp, 'unixepoch') AS date,\n",
    "    COUNT(DISTINCT user_id) AS daily_user_count\n",
    "FROM login_history\n",
    "WHERE login_timestamp <= 1527897600 -- Unix timestamp for 2018-06-02\n",
    "GROUP BY date\n",
    "ORDER BY date;\n",
    "\"\"\"\n",
    "df_before = pd.read_sql_query(query_before, connection)\n",
    "\n",
    "query_after = f\"\"\"\n",
    "SELECT\n",
    "    DATE(login_timestamp, 'unixepoch') AS date,\n",
    "    COUNT(DISTINCT user_id) AS daily_user_count\n",
    "FROM login_history\n",
    "WHERE login_timestamp > 1527897600 -- Unix timestamp for 2018-06-02\n",
    "GROUP BY date\n",
    "ORDER BY date;\n",
    "\"\"\"\n",
    "df_after = pd.read_sql_query(query_after, connection)"
   ]
  },
  {
   "cell_type": "markdown",
   "metadata": {},
   "source": [
    "### Query for Number of Status Changes by Card"
   ]
  },
  {
   "cell_type": "code",
   "execution_count": null,
   "metadata": {},
   "outputs": [],
   "source": [
    "query_change = f\"\"\"\n",
    "SELECT\n",
    "    cardID,\n",
    "    COUNT(*) AS status_change_count\n",
    "FROM card_change_history\n",
    "GROUP BY cardID\n",
    "ORDER BY status_change_count DESC;\n",
    "\"\"\"\n",
    "df_change = pd.read_sql_query(query_change, connection)"
   ]
  }
 ],
 "metadata": {
  "kernelspec": {
   "display_name": "venv",
   "language": "python",
   "name": "venv"
  },
  "language_info": {
   "codemirror_mode": {
    "name": "ipython",
    "version": 3
   },
   "file_extension": ".py",
   "mimetype": "text/x-python",
   "name": "python",
   "nbconvert_exporter": "python",
   "pygments_lexer": "ipython3",
   "version": "3.12.8"
  }
 },
 "nbformat": 4,
 "nbformat_minor": 2
}
