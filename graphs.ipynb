{
 "cells": [
  {
   "cell_type": "code",
   "execution_count": 1,
   "metadata": {},
   "outputs": [],
   "source": [
    "import sqlite3\n",
    "import pandas as pd\n",
    "import matplotlib.pyplot as plt\n",
    "import seaborn as sns"
   ]
  },
  {
   "cell_type": "code",
   "execution_count": 2,
   "metadata": {},
   "outputs": [],
   "source": [
    "connection = sqlite3.connect('shiptivity.db')"
   ]
  },
  {
   "cell_type": "code",
   "execution_count": null,
   "metadata": {},
   "outputs": [],
   "source": [
    "feature_change_timestamp = 1527897600\n",
    "\n",
    "query_before = f\"\"\"\n",
    "SELECT\n",
    "    DATE(login_timestamp, 'unixepoch') AS date,\n",
    "    COUNT(DISTINCT user_id) AS daily_user_count\n",
    "FROM login_history\n",
    "WHERE login_timestamp <= 1527897600 -- Unix timestamp for 2018-06-02\n",
    "GROUP BY date\n",
    "ORDER BY date;\n",
    "\"\"\"\n",
    "df_before = pd.read_sql_query(query_before, connection)\n",
    "\n",
    "query_after = f\"\"\"\n",
    "SELECT\n",
    "    DATE(login_timestamp, 'unixepoch') AS date,\n",
    "    COUNT(DISTINCT user_id) AS daily_user_count\n",
    "FROM login_history\n",
    "WHERE login_timestamp > 1527897600 -- Unix timestamp for 2018-06-02\n",
    "GROUP BY date\n",
    "ORDER BY date;\n",
    "\"\"\"\n",
    "df_after = pd.read_sql_query(query_after, connection)"
   ]
  }
 ],
 "metadata": {
  "kernelspec": {
   "display_name": "venv",
   "language": "python",
   "name": "venv"
  },
  "language_info": {
   "codemirror_mode": {
    "name": "ipython",
    "version": 3
   },
   "file_extension": ".py",
   "mimetype": "text/x-python",
   "name": "python",
   "nbconvert_exporter": "python",
   "pygments_lexer": "ipython3",
   "version": "3.12.8"
  }
 },
 "nbformat": 4,
 "nbformat_minor": 2
}
